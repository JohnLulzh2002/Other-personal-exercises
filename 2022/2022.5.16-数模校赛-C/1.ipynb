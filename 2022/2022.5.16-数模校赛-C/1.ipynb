{
 "cells": [
  {
   "cell_type": "code",
   "execution_count": 1,
   "metadata": {},
   "outputs": [],
   "source": [
    "from matplotlib import pyplot as plt\n",
    "import numpy as np"
   ]
  },
  {
   "cell_type": "code",
   "execution_count": 2,
   "metadata": {},
   "outputs": [],
   "source": [
    "m=np.zeros((16,16),dtype=int)\n",
    "for i in range(16):\n",
    "    m[i,(i+1)%16]=1\n",
    "    m[(i+1)%16,i]=1\n",
    "e=((1,6),(1,12),(2,10),(2,13),(3,7),(3,15),(4,9),(4,12))\n",
    "d=(-1,3,7,11)\n",
    "for X,Y in e:\n",
    "    for j in d:\n",
    "        x=(X+j)%16\n",
    "        y=(Y+j)%16\n",
    "        m[x,y]=1"
   ]
  },
  {
   "cell_type": "code",
   "execution_count": 3,
   "metadata": {},
   "outputs": [
    {
     "data": {
      "image/png": "[encoded data removed]",
      "text/plain": [
       "<Figure size 432x288 with 1 Axes>"
      ]
     },
     "metadata": {},
     "output_type": "display_data"
    }
   ],
   "source": [
    "plt.imshow(m, cmap='BuGn')\n",
    "plt.xticks([])\n",
    "plt.yticks([])\n",
    "plt.show()"
   ]
  },
  {
   "cell_type": "code",
   "execution_count": 4,
   "metadata": {},
   "outputs": [
    {
     "data": {
      "image/png": "[encoded data removed]",
      "text/plain": [
       "<Figure size 432x288 with 1 Axes>"
      ]
     },
     "metadata": {},
     "output_type": "display_data"
    },
    {
     "data": {
      "image/png": "[encoded data removed]",
      "text/plain": [
       "<Figure size 432x288 with 1 Axes>"
      ]
     },
     "metadata": {},
     "output_type": "display_data"
    },
    {
     "data": {
      "image/png": "[encoded data removed]",
      "text/plain": [
       "<Figure size 432x288 with 1 Axes>"
      ]
     },
     "metadata": {},
     "output_type": "display_data"
    },
    {
     "data": {
      "image/png": "[encoded data removed]",
      "text/plain": [
       "<Figure size 432x288 with 1 Axes>"
      ]
     },
     "metadata": {},
     "output_type": "display_data"
    }
   ],
   "source": [
    "v=np.eye(16,dtype=int)[0].reshape(1,16)\n",
    "plt.imshow(v, cmap='BuGn')\n",
    "plt.xticks([])\n",
    "plt.yticks([])\n",
    "plt.ylabel('n=0      ',rotation=0)\n",
    "plt.show()\n",
    "count,n=1,0\n",
    "s=[None for i in range(16)]\n",
    "s[0]=(0,0)\n",
    "while count<16:\n",
    "    n += 1\n",
    "    v=v.dot(m)\n",
    "    for j in range(16):\n",
    "        if v[0,j]>0 and s[j]==None:\n",
    "            s[j]=(n,v[0,j])\n",
    "            count+=1\n",
    "    plt.imshow(v, cmap='BuGn')\n",
    "    plt.xticks([])\n",
    "    plt.yticks([])\n",
    "    plt.ylabel('n=%d      '%n,rotation=0)\n",
    "    plt.show()"
   ]
  },
  {
   "cell_type": "code",
   "execution_count": 5,
   "metadata": {},
   "outputs": [
    {
     "name": "stdout",
     "output_type": "stream",
     "text": [
      "[0 1 2 2 2 1 2 2 3 2 2 1 2 2 2 1]\n"
     ]
    },
    {
     "data": {
      "image/png": "[encoded data removed]",
      "text/plain": [
       "<Figure size 432x288 with 1 Axes>"
      ]
     },
     "metadata": {},
     "output_type": "display_data"
    },
    {
     "name": "stdout",
     "output_type": "stream",
     "text": [
      "[0 1 1 1 2 1 1 1 4 1 1 1 2 1 1 1]\n"
     ]
    },
    {
     "data": {
      "image/png": "[encoded data removed]",
      "text/plain": [
       "<Figure size 432x288 with 1 Axes>"
      ]
     },
     "metadata": {},
     "output_type": "display_data"
    }
   ],
   "source": [
    "c=np.array([x for x,y in s]).reshape((1,16))\n",
    "print(*c)\n",
    "plt.imshow(c, cmap='BuGn')\n",
    "plt.xticks([])\n",
    "plt.yticks([])\n",
    "plt.ylabel('c1  ',rotation=0)\n",
    "plt.show()\n",
    "l=np.array([y for x,y in s]).reshape((1,16))\n",
    "print(*l)\n",
    "plt.imshow(l, cmap='BuGn')\n",
    "plt.xticks([])\n",
    "plt.yticks([])\n",
    "plt.ylabel('l1  ',rotation=0)\n",
    "plt.show()"
   ]
  },
  {
   "cell_type": "code",
   "execution_count": 6,
   "metadata": {},
   "outputs": [
    {
     "data": {
      "image/png": "[encoded data removed]",
      "text/plain": [
       "<Figure size 432x288 with 1 Axes>"
      ]
     },
     "metadata": {},
     "output_type": "display_data"
    },
    {
     "data": {
      "image/png": "[encoded data removed]",
      "text/plain": [
       "<Figure size 432x288 with 1 Axes>"
      ]
     },
     "metadata": {},
     "output_type": "display_data"
    }
   ],
   "source": [
    "c=[]\n",
    "l=[]\n",
    "for i in range(16):\n",
    "    v=np.eye(16,dtype=int)[i].reshape(1,16)\n",
    "    count,length=1,0\n",
    "    s=[None for i in range(16)]\n",
    "    s[i]=(0,0)\n",
    "    while count<16:\n",
    "        length += 1\n",
    "        v=v.dot(m)\n",
    "        for j in range(16):\n",
    "            if v[0,j]>0 and s[j]==None:\n",
    "                s[j]=(length,v[0,j])\n",
    "                count+=1\n",
    "    c.append([x for x,y in s])\n",
    "    l.append([y for x,y in s])\n",
    "c=np.array(c)\n",
    "l=np.array(l)\n",
    "plt.imshow(c, cmap='BuGn')\n",
    "plt.xticks([])\n",
    "plt.yticks([])\n",
    "plt.show()\n",
    "plt.imshow(l, cmap='BuGn')\n",
    "plt.xticks([])\n",
    "plt.yticks([])\n",
    "plt.show()"
   ]
  }
 ],
 "metadata": {
  "interpreter": {
   "hash": "9b4d75ac280b6c7c3aa43866cb82dc88915409b55fec83a093dd0284cb58708e"
  },
  "kernelspec": {
   "display_name": "Python 3.9.10 64-bit",
   "language": "python",
   "name": "python3"
  },
  "language_info": {
   "codemirror_mode": {
    "name": "ipython",
    "version": 3
   },
   "file_extension": ".py",
   "mimetype": "text/x-python",
   "name": "python",
   "nbconvert_exporter": "python",
   "pygments_lexer": "ipython3",
   "version": "3.9.10"
  },
  "orig_nbformat": 4
 },
 "nbformat": 4,
 "nbformat_minor": 2
}
