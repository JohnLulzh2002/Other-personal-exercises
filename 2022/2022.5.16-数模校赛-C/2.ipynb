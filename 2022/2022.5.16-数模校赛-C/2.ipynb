{
 "cells": [
  {
   "cell_type": "code",
   "execution_count": 1,
   "metadata": {},
   "outputs": [],
   "source": [
    "import numpy as np\n",
    "from matplotlib import pyplot as plt"
   ]
  },
  {
   "cell_type": "code",
   "execution_count": 2,
   "metadata": {},
   "outputs": [],
   "source": [
    "m=np.zeros((16,16),dtype=int)\n",
    "for i in range(16):\n",
    "    m[i,(i+1)%16]=1\n",
    "    m[(i+1)%16,i]=1\n",
    "e=((1,6),(1,12),(2,10),(2,13),(3,7),(3,15),(4,9),(4,12))\n",
    "d=(-1,3,7,11)\n",
    "for X,Y in e:\n",
    "    for j in d:\n",
    "        m[(X+j)%16,(Y+j)%16]=1"
   ]
  },
  {
   "cell_type": "code",
   "execution_count": 3,
   "metadata": {},
   "outputs": [
    {
     "name": "stdout",
     "output_type": "stream",
     "text": [
      "(1, 2)\t[1, 2]\n",
      "(1, 3)\t[1, 2, 3]\n",
      "(1, 4)\t[1, 12, 4]\n",
      "(1, 5)\t[1, 6, 5]\t[1, 16, 5]\n",
      "(1, 6)\t[1, 6]\n",
      "(1, 7)\t[1, 6, 7]\n",
      "(1, 8)\t[1, 16, 8]\n",
      "(1, 9)\t[1, 2, 10, 9]\t[1, 6, 14, 9]\t[1, 12, 4, 9]\t[1, 16, 8, 9]\n",
      "(1, 10)\t[1, 2, 10]\n",
      "(1, 11)\t[1, 12, 11]\n",
      "(1, 12)\t[1, 12]\n",
      "(1, 13)\t[1, 2, 13]\t[1, 12, 13]\n",
      "(1, 14)\t[1, 6, 14]\n",
      "(1, 15)\t[1, 16, 15]\n",
      "(1, 16)\t[1, 16]\n"
     ]
    }
   ],
   "source": [
    "rs=[[[]for j in range(16)]for i in range(16)]\n",
    "for b in range(16):\n",
    "    s=set(range(16))\n",
    "    s.remove(b)\n",
    "    r=[[b]]\n",
    "    while s:\n",
    "        t=r.copy()\n",
    "        ns=set()\n",
    "        r=[]\n",
    "        for i in t:\n",
    "            l=i[-1]\n",
    "            for j in range(16):\n",
    "                if m[l][j] and j in s:\n",
    "                    rs[b][j].append(i+[j])\n",
    "                    r.append(i+[j])\n",
    "                    ns.add(j)\n",
    "        s=s.difference(ns)\n",
    "for i in range(1):\n",
    "    t=rs[i]\n",
    "    for j in range(i+1,16):\n",
    "        print((i+1,j+1),*map(lambda x:[y+1 for y in x],t[j]),sep='\\t')"
   ]
  },
  {
   "cell_type": "code",
   "execution_count": 4,
   "metadata": {},
   "outputs": [
    {
     "data": {
      "image/png": "[encoded data removed]",
      "text/plain": [
       "<Figure size 432x288 with 1 Axes>"
      ]
     },
     "metadata": {},
     "output_type": "display_data"
    }
   ],
   "source": [
    "ps=[]\n",
    "for i in range(16):\n",
    "    t=rs[i]\n",
    "    for j in range(i+1,16):\n",
    "        ps.append(t[j])\n",
    "mx=[len(p)for p in ps]+[2]\n",
    "plt.imshow(np.array(mx[:-1]).reshape(8,15),cmap='BuGn')\n",
    "plt.xticks([])\n",
    "plt.yticks([])\n",
    "plt.ylabel('mx      ',rotation=0)\n",
    "plt.show()\n"
   ]
  },
  {
   "cell_type": "code",
   "execution_count": 5,
   "metadata": {},
   "outputs": [
    {
     "data": {
      "image/png": "[encoded data removed]",
      "text/plain": [
       "<Figure size 432x288 with 1 Axes>"
      ]
     },
     "metadata": {},
     "output_type": "display_data"
    },
    {
     "name": "stdout",
     "output_type": "stream",
     "text": [
      "6\n",
      "6 6 6 6 5 6 6 6 5 6 5 6 4 6 5 6\n"
     ]
    },
    {
     "data": {
      "image/png": "[encoded data removed]",
      "text/plain": [
       "<Figure size 432x288 with 1 Axes>"
      ]
     },
     "metadata": {},
     "output_type": "display_data"
    }
   ],
   "source": [
    "n=[0 for x in range(121)]\n",
    "ans=99999\n",
    "while not n[-1]:\n",
    "    c=[0 for x in range(16)]\n",
    "    for i in range(120):\n",
    "        for j in ps[i][n[i]][1:-1]:\n",
    "            c[j]+=1\n",
    "    if max(c)<ans:\n",
    "        ans=max(c)\n",
    "        ansn=n.copy()\n",
    "    n[0]+=1\n",
    "    i=0\n",
    "    while n[i]>=mx[i]:\n",
    "        n[i]=0\n",
    "        i+=1\n",
    "        n[i]+=1\n",
    "plt.imshow(np.array(ansn[:-1]).reshape(8,15),cmap='BuGn')\n",
    "plt.xticks([])\n",
    "plt.yticks([])\n",
    "plt.ylabel('n      ',rotation=0)\n",
    "plt.show()\n",
    "c=[0 for x in range(16)]\n",
    "for i in range(120):\n",
    "    for j in ps[i][ansn[i]][1:-1]:\n",
    "        c[j]+=1\n",
    "print(ans)\n",
    "print(*c)\n",
    "plt.imshow(np.array([0]+c).reshape(1,17),cmap='BuGn')\n",
    "plt.xticks([])\n",
    "plt.yticks([])\n",
    "plt.ylabel('c      ',rotation=0)\n",
    "plt.show()"
   ]
  }
 ],
 "metadata": {
  "interpreter": {
   "hash": "9b4d75ac280b6c7c3aa43866cb82dc88915409b55fec83a093dd0284cb58708e"
  },
  "kernelspec": {
   "display_name": "Python 3.9.10 64-bit",
   "language": "python",
   "name": "python3"
  },
  "language_info": {
   "codemirror_mode": {
    "name": "ipython",
    "version": 3
   },
   "file_extension": ".py",
   "mimetype": "text/x-python",
   "name": "python",
   "nbconvert_exporter": "python",
   "pygments_lexer": "ipython3",
   "version": "3.9.10"
  },
  "orig_nbformat": 4
 },
 "nbformat": 4,
 "nbformat_minor": 2
}
