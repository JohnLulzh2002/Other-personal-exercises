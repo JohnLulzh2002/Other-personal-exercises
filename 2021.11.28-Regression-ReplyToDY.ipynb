{
 "cells": [
  {
   "cell_type": "code",
   "execution_count": 1,
   "metadata": {},
   "outputs": [],
   "source": [
    "import csv\n",
    "import numpy as np\n",
    "from random import shuffle\n",
    "from sklearn.linear_model import LinearRegression,LogisticRegression"
   ]
  },
  {
   "cell_type": "code",
   "execution_count": 2,
   "metadata": {},
   "outputs": [],
   "source": [
    "data=[]\n",
    "with open('2021.11.28-Regression.csv','rt') as f:\n",
    "    cr=csv.reader(f)\n",
    "    for row in cr:\n",
    "        try:\n",
    "            data.append([np.array(row[:-1],dtype=float),int(row[-1])])\n",
    "        except ValueError:\n",
    "            pass\n",
    "shuffle(data)"
   ]
  },
  {
   "cell_type": "code",
   "execution_count": 3,
   "metadata": {},
   "outputs": [
    {
     "name": "stdout",
     "output_type": "stream",
     "text": [
      "The shape of X is: (735, 9)\n",
      "The shape of Y is: (735, 1)\n",
      "m = 735 training examples\n"
     ]
    }
   ],
   "source": [
    "X=np.array([x[0]for x in data])\n",
    "m=X.shape[0]\n",
    "Y=np.array([x[1]for x in data]).reshape((m,1))\n",
    "print('The shape of X is: ' + str(X.shape))\n",
    "print('The shape of Y is: ' + str(Y.shape))\n",
    "print('m = %d training examples' % (m))\n",
    "X_train=X[:int(0.8*m),:]\n",
    "Y_train=Y[:int(0.8*m),:]\n",
    "X_test=X[int(0.8*m):,:]\n",
    "Y_test=Y[int(0.8*m):,:]"
   ]
  },
  {
   "cell_type": "code",
   "execution_count": 4,
   "metadata": {},
   "outputs": [
    {
     "name": "stdout",
     "output_type": "stream",
     "text": [
      "[[ 4.68345777e-02 -5.27159091e-02 -9.90294793e-07 -1.28492978e-01\n",
      "   5.21679658e-02 -1.90289491e-03  2.00876660e-01 -8.91793630e-04\n",
      "   6.07210588e-04]]\n",
      "[0.83249953]\n",
      "80.27210884353741%"
     ]
    }
   ],
   "source": [
    "regression=LinearRegression()\n",
    "regression.fit(X_train,Y_train)\n",
    "Y_hat=regression.predict(X_test)\n",
    "Y_hat=np.squeeze(Y_hat)\n",
    "Y_test=np.squeeze(Y_test)\n",
    "f=lambda x:1 if x>0.5 else 0\n",
    "right=wrong=0\n",
    "for i in range(len(Y_test)):\n",
    "    if f(Y_hat[i])==Y_test[i]:\n",
    "        right+=1\n",
    "    else:\n",
    "        wrong+=1\n",
    "print(regression.coef_)\n",
    "print(regression.intercept_)\n",
    "print(100*right/(right+wrong),end='%')"
   ]
  },
  {
   "cell_type": "code",
   "execution_count": 5,
   "metadata": {},
   "outputs": [
    {
     "name": "stdout",
     "output_type": "stream",
     "text": [
      "[[ 4.13920523e-01 -5.25382599e-01 -4.92751229e-06 -8.17008179e-01\n",
      "   2.17467954e+00  1.80022743e+00  7.54355393e-01 -1.19031534e-02\n",
      "   1.39898625e-01]]\n",
      "[1.92085567]\n",
      "3.928782657650321\n",
      "85.03401360544218%"
     ]
    },
    {
     "name": "stderr",
     "output_type": "stream",
     "text": [
      "C:\\Softwares\\Python3\\lib\\site-packages\\sklearn\\utils\\validation.py:63: DataConversionWarning: A column-vector y was passed when a 1d array was expected. Please change the shape of y to (n_samples, ), for example using ravel().\n",
      "  return f(*args, **kwargs)\n"
     ]
    }
   ],
   "source": [
    "regression=LogisticRegression(max_iter=100000,penalty='l2')\n",
    "# regression=LogisticRegression(max_iter=100000,penalty='l1',solver='liblinear')\n",
    "regression.fit(X_train,Y_train)\n",
    "Y_hat=regression.predict(X_test)\n",
    "Y_hat=np.squeeze(Y_hat)\n",
    "Y_test=np.squeeze(Y_test)\n",
    "right=wrong=0\n",
    "for i in range(len(Y_test)):\n",
    "    if Y_hat[i]==Y_test[i]:\n",
    "        right+=1\n",
    "    else:\n",
    "        wrong+=1\n",
    "print(regression.coef_)\n",
    "print(regression.intercept_)\n",
    "print(sum(sum(regression.coef_)))\n",
    "print(100*right/(right+wrong),end='%')"
   ]
  }
 ],
 "metadata": {
  "interpreter": {
   "hash": "ae7dbc91df3af0185ffb34e3fe12035cb4fadd9b684f5beca1182a2e24aafe6e"
  },
  "kernelspec": {
   "display_name": "Python 3",
   "language": "python",
   "name": "python3"
  },
  "language_info": {
   "codemirror_mode": {
    "name": "ipython",
    "version": 3
   },
   "file_extension": ".py",
   "mimetype": "text/x-python",
   "name": "python",
   "nbconvert_exporter": "python",
   "pygments_lexer": "ipython3",
   "version": "3.9.1"
  }
 },
 "nbformat": 4,
 "nbformat_minor": 2
}
