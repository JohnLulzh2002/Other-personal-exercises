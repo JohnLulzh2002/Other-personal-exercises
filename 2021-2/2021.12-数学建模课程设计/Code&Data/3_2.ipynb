{
 "cells": [
  {
   "cell_type": "code",
   "execution_count": 1,
   "metadata": {},
   "outputs": [],
   "source": [
    "import numpy as np\n",
    "import pandas as pd\n",
    "import matplotlib.pyplot as plt\n",
    "import seaborn as sns\n",
    "from sklearn.cluster import KMeans,AffinityPropagation\n",
    "from sklearn import metrics\n",
    "plt.style.use('ggplot')\n",
    "%matplotlib inline\n",
    "data=pd.read_csv('data.csv')\n",
    "num_data =pd.read_csv('num_data.csv')"
   ]
  },
  {
   "cell_type": "code",
   "execution_count": 2,
   "metadata": {},
   "outputs": [
    {
     "name": "stdout",
     "output_type": "stream",
     "text": [
      "<class 'pandas.core.frame.DataFrame'>\n",
      "RangeIndex: 2065 entries, 0 to 2064\n",
      "Data columns (total 16 columns):\n",
      " #   Column                Non-Null Count  Dtype  \n",
      "---  ------                --------------  -----  \n",
      " 0   title                 2065 non-null   object \n",
      " 1   genres                2065 non-null   object \n",
      " 2   keywords              2065 non-null   object \n",
      " 3   director              2065 non-null   object \n",
      " 4   cast                  2065 non-null   object \n",
      " 5   budget                2065 non-null   int64  \n",
      " 6   revenue               2065 non-null   int64  \n",
      " 7   popularity            2065 non-null   float64\n",
      " 8   vote_average          2065 non-null   float64\n",
      " 9   runtime               2065 non-null   float64\n",
      " 10  production_companies  2065 non-null   object \n",
      " 11  year                  2065 non-null   int64  \n",
      " 12  month                 2065 non-null   float64\n",
      " 13  overview              2065 non-null   object \n",
      " 14  cast_revenue          2065 non-null   float64\n",
      " 15  director_revenue      2065 non-null   float64\n",
      "dtypes: float64(6), int64(3), object(7)\n",
      "memory usage: 258.2+ KB\n"
     ]
    }
   ],
   "source": [
    "data.info()"
   ]
  }
 ],
 "metadata": {
  "interpreter": {
   "hash": "ae7dbc91df3af0185ffb34e3fe12035cb4fadd9b684f5beca1182a2e24aafe6e"
  },
  "kernelspec": {
   "display_name": "Python 3.9.1 64-bit",
   "language": "python",
   "name": "python3"
  },
  "language_info": {
   "codemirror_mode": {
    "name": "ipython",
    "version": 3
   },
   "file_extension": ".py",
   "mimetype": "text/x-python",
   "name": "python",
   "nbconvert_exporter": "python",
   "pygments_lexer": "ipython3",
   "version": "3.9.1"
  },
  "orig_nbformat": 4
 },
 "nbformat": 4,
 "nbformat_minor": 2
}
